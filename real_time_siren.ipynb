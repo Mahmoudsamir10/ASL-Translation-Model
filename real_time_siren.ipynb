{
 "cells": [
  {
   "cell_type": "code",
   "execution_count": 1,
   "metadata": {},
   "outputs": [],
   "source": [
    "from scipy import signal\n",
    "import librosa\n",
    "import numpy as np\n",
    "\n",
    "RATE = 22050\n",
    "sos = signal.butter(5, [50, 5000], 'bandpass', fs=RATE, output='sos')\n",
    "\n",
    "def get_mfccs(audio): \n",
    "   \n",
    "    try:\n",
    "        audio = 2*((audio-min(audio))/(max(audio)-min(audio)))-1\n",
    "\n",
    "        #Filter\n",
    "        audio = signal.sosfilt(sos, audio) \n",
    "\n",
    "        mfccs = librosa.feature.mfcc(y=audio, sr=RATE, n_mfcc=40)\n",
    "\n",
    "    except Exception as e:\n",
    "            print(\"Error extracting features\")\n",
    "            return None\n",
    "     \n",
    "    return mfccs"
   ]
  },
  {
   "cell_type": "code",
   "execution_count": 2,
   "metadata": {},
   "outputs": [
    {
     "name": "stdout",
     "output_type": "stream",
     "text": [
      "{'index': 0, 'structVersion': 2, 'name': 'Microsoft Sound Mapper - Input', 'hostApi': 0, 'maxInputChannels': 2, 'maxOutputChannels': 0, 'defaultLowInputLatency': 0.09, 'defaultLowOutputLatency': 0.09, 'defaultHighInputLatency': 0.18, 'defaultHighOutputLatency': 0.18, 'defaultSampleRate': 44100.0}\n",
      "{'index': 1, 'structVersion': 2, 'name': 'Microphone (Realtek(R) Audio)', 'hostApi': 0, 'maxInputChannels': 2, 'maxOutputChannels': 0, 'defaultLowInputLatency': 0.09, 'defaultLowOutputLatency': 0.09, 'defaultHighInputLatency': 0.18, 'defaultHighOutputLatency': 0.18, 'defaultSampleRate': 44100.0}\n",
      "{'index': 2, 'structVersion': 2, 'name': 'Microsoft Sound Mapper - Output', 'hostApi': 0, 'maxInputChannels': 0, 'maxOutputChannels': 2, 'defaultLowInputLatency': 0.09, 'defaultLowOutputLatency': 0.09, 'defaultHighInputLatency': 0.18, 'defaultHighOutputLatency': 0.18, 'defaultSampleRate': 44100.0}\n",
      "{'index': 3, 'structVersion': 2, 'name': 'Speakers (Realtek(R) Audio)', 'hostApi': 0, 'maxInputChannels': 0, 'maxOutputChannels': 2, 'defaultLowInputLatency': 0.09, 'defaultLowOutputLatency': 0.09, 'defaultHighInputLatency': 0.18, 'defaultHighOutputLatency': 0.18, 'defaultSampleRate': 44100.0}\n",
      "{'index': 4, 'structVersion': 2, 'name': 'Primary Sound Capture Driver', 'hostApi': 1, 'maxInputChannels': 2, 'maxOutputChannels': 0, 'defaultLowInputLatency': 0.12, 'defaultLowOutputLatency': 0.0, 'defaultHighInputLatency': 0.24, 'defaultHighOutputLatency': 0.0, 'defaultSampleRate': 44100.0}\n",
      "{'index': 5, 'structVersion': 2, 'name': 'Microphone (Realtek(R) Audio)', 'hostApi': 1, 'maxInputChannels': 2, 'maxOutputChannels': 0, 'defaultLowInputLatency': 0.12, 'defaultLowOutputLatency': 0.0, 'defaultHighInputLatency': 0.24, 'defaultHighOutputLatency': 0.0, 'defaultSampleRate': 44100.0}\n",
      "{'index': 6, 'structVersion': 2, 'name': 'Primary Sound Driver', 'hostApi': 1, 'maxInputChannels': 0, 'maxOutputChannels': 2, 'defaultLowInputLatency': 0.0, 'defaultLowOutputLatency': 0.12, 'defaultHighInputLatency': 0.0, 'defaultHighOutputLatency': 0.24, 'defaultSampleRate': 44100.0}\n",
      "{'index': 7, 'structVersion': 2, 'name': 'Speakers (Realtek(R) Audio)', 'hostApi': 1, 'maxInputChannels': 0, 'maxOutputChannels': 2, 'defaultLowInputLatency': 0.0, 'defaultLowOutputLatency': 0.12, 'defaultHighInputLatency': 0.0, 'defaultHighOutputLatency': 0.24, 'defaultSampleRate': 44100.0}\n",
      "{'index': 8, 'structVersion': 2, 'name': 'Speakers (Realtek(R) Audio)', 'hostApi': 2, 'maxInputChannels': 0, 'maxOutputChannels': 2, 'defaultLowInputLatency': 0.0, 'defaultLowOutputLatency': 0.003, 'defaultHighInputLatency': 0.0, 'defaultHighOutputLatency': 0.01, 'defaultSampleRate': 48000.0}\n",
      "{'index': 9, 'structVersion': 2, 'name': 'Microphone (Realtek(R) Audio)', 'hostApi': 2, 'maxInputChannels': 2, 'maxOutputChannels': 0, 'defaultLowInputLatency': 0.003, 'defaultLowOutputLatency': 0.0, 'defaultHighInputLatency': 0.01, 'defaultHighOutputLatency': 0.0, 'defaultSampleRate': 48000.0}\n",
      "{'index': 10, 'structVersion': 2, 'name': 'Microphone (Realtek HD Audio Mic input)', 'hostApi': 3, 'maxInputChannels': 2, 'maxOutputChannels': 0, 'defaultLowInputLatency': 0.01, 'defaultLowOutputLatency': 0.01, 'defaultHighInputLatency': 0.04, 'defaultHighOutputLatency': 0.04, 'defaultSampleRate': 44100.0}\n",
      "{'index': 11, 'structVersion': 2, 'name': 'Headphones 1 (Realtek HD Audio 2nd output with SST)', 'hostApi': 3, 'maxInputChannels': 0, 'maxOutputChannels': 2, 'defaultLowInputLatency': 0.01, 'defaultLowOutputLatency': 0.01, 'defaultHighInputLatency': 0.04, 'defaultHighOutputLatency': 0.04, 'defaultSampleRate': 44100.0}\n",
      "{'index': 12, 'structVersion': 2, 'name': 'Headphones 2 (Realtek HD Audio 2nd output with SST)', 'hostApi': 3, 'maxInputChannels': 0, 'maxOutputChannels': 2, 'defaultLowInputLatency': 0.01, 'defaultLowOutputLatency': 0.01, 'defaultHighInputLatency': 0.04, 'defaultHighOutputLatency': 0.04, 'defaultSampleRate': 44100.0}\n",
      "{'index': 13, 'structVersion': 2, 'name': 'PC Speaker (Realtek HD Audio 2nd output with SST)', 'hostApi': 3, 'maxInputChannels': 2, 'maxOutputChannels': 0, 'defaultLowInputLatency': 0.01, 'defaultLowOutputLatency': 0.01, 'defaultHighInputLatency': 0.04, 'defaultHighOutputLatency': 0.04, 'defaultSampleRate': 48000.0}\n",
      "{'index': 14, 'structVersion': 2, 'name': 'Speakers 1 (Realtek HD Audio output with SST)', 'hostApi': 3, 'maxInputChannels': 0, 'maxOutputChannels': 2, 'defaultLowInputLatency': 0.01, 'defaultLowOutputLatency': 0.01, 'defaultHighInputLatency': 0.04, 'defaultHighOutputLatency': 0.04, 'defaultSampleRate': 44100.0}\n",
      "{'index': 15, 'structVersion': 2, 'name': 'Speakers 2 (Realtek HD Audio output with SST)', 'hostApi': 3, 'maxInputChannels': 0, 'maxOutputChannels': 2, 'defaultLowInputLatency': 0.01, 'defaultLowOutputLatency': 0.01, 'defaultHighInputLatency': 0.04, 'defaultHighOutputLatency': 0.04, 'defaultSampleRate': 44100.0}\n",
      "{'index': 16, 'structVersion': 2, 'name': 'PC Speaker (Realtek HD Audio output with SST)', 'hostApi': 3, 'maxInputChannels': 2, 'maxOutputChannels': 0, 'defaultLowInputLatency': 0.01, 'defaultLowOutputLatency': 0.01, 'defaultHighInputLatency': 0.04, 'defaultHighOutputLatency': 0.04, 'defaultSampleRate': 48000.0}\n",
      "{'index': 17, 'structVersion': 2, 'name': 'Microphone (Realtek Digital Microphone)', 'hostApi': 3, 'maxInputChannels': 2, 'maxOutputChannels': 0, 'defaultLowInputLatency': 0.01, 'defaultLowOutputLatency': 0.01, 'defaultHighInputLatency': 0.04, 'defaultHighOutputLatency': 0.04, 'defaultSampleRate': 44100.0}\n",
      "{'index': 18, 'structVersion': 2, 'name': 'Stereo Mix (Realtek HD Audio Stereo input)', 'hostApi': 3, 'maxInputChannels': 2, 'maxOutputChannels': 0, 'defaultLowInputLatency': 0.01, 'defaultLowOutputLatency': 0.01, 'defaultHighInputLatency': 0.04, 'defaultHighOutputLatency': 0.04, 'defaultSampleRate': 48000.0}\n"
     ]
    }
   ],
   "source": [
    "# Initialize pyaudio settings\n",
    "\n",
    "import pyaudio\n",
    "\n",
    "RATE = 22050\n",
    "CHUNK = RATE*3\n",
    "FORMAT = pyaudio.paInt16\n",
    "CHANNELS = 1\n",
    "\n",
    "# Identify which input is the mic - use to change input_device_index below\n",
    "p = pyaudio.PyAudio()\n",
    "\n",
    "chosen_device_index = -1\n",
    "for x in range(0,p.get_device_count()):\n",
    "    info = p.get_device_info_by_index(x)\n",
    "    print(p.get_device_info_by_index(x))\n"
   ]
  },
  {
   "cell_type": "code",
   "execution_count": 3,
   "metadata": {},
   "outputs": [
    {
     "name": "stdout",
     "output_type": "stream",
     "text": [
      "WARNING:tensorflow:From c:\\Python311\\Lib\\site-packages\\keras\\src\\losses.py:2976: The name tf.losses.sparse_softmax_cross_entropy is deprecated. Please use tf.compat.v1.losses.sparse_softmax_cross_entropy instead.\n",
      "\n",
      "WARNING:tensorflow:From c:\\Python311\\Lib\\site-packages\\keras\\src\\backend.py:1398: The name tf.executing_eagerly_outside_functions is deprecated. Please use tf.compat.v1.executing_eagerly_outside_functions instead.\n",
      "\n",
      "WARNING:tensorflow:From c:\\Python311\\Lib\\site-packages\\keras\\src\\layers\\pooling\\max_pooling2d.py:161: The name tf.nn.max_pool is deprecated. Please use tf.nn.max_pool2d instead.\n",
      "\n"
     ]
    }
   ],
   "source": [
    "from keras.models import load_model\n",
    "\n",
    "modelSave = 'C:\\\\Users\\\\dell\\\\Desktop\\\\AI\\\\Grad\\\\2nd\\\\siren\\\\siren_detector_32_32_64_64.h5' \n",
    "model = load_model(modelSave)"
   ]
  },
  {
   "cell_type": "code",
   "execution_count": 4,
   "metadata": {},
   "outputs": [
    {
     "name": "stdout",
     "output_type": "stream",
     "text": [
      "1/1 [==============================] - 0s 259ms/step\n",
      "not_siren:  0.95558274 siren:  0.04441729\n",
      "No siren. Carry on.\n",
      "1/1 [==============================] - 0s 50ms/step\n",
      "not_siren:  0.8636085 siren:  0.13639157\n",
      "No siren. Carry on.\n",
      "1/1 [==============================] - 0s 44ms/step\n",
      "not_siren:  0.3467342 siren:  0.65326583\n",
      "No siren. Carry on.\n",
      "1/1 [==============================] - 0s 57ms/step\n",
      "not_siren:  0.9789165 siren:  0.021083495\n",
      "No siren. Carry on.\n",
      "1/1 [==============================] - 0s 42ms/step\n",
      "not_siren:  0.9702333 siren:  0.029766753\n",
      "No siren. Carry on.\n",
      "1/1 [==============================] - 0s 47ms/step\n",
      "not_siren:  0.9999987 siren:  1.3260304e-06\n",
      "No siren. Carry on.\n",
      "1/1 [==============================] - 0s 54ms/step\n",
      "not_siren:  3.1334536e-11 siren:  1.0\n",
      "SIREN!!!\n",
      "1/1 [==============================] - 0s 54ms/step\n",
      "not_siren:  1.16358105e-08 siren:  1.0\n",
      "SIREN!!!\n",
      "1/1 [==============================] - 0s 45ms/step\n",
      "not_siren:  6.3958243e-09 siren:  1.0\n",
      "SIREN!!!\n",
      "1/1 [==============================] - 0s 44ms/step\n",
      "not_siren:  8.651954e-08 siren:  0.9999999\n",
      "SIREN!!!\n",
      "1/1 [==============================] - 0s 44ms/step\n",
      "not_siren:  1.7736852e-07 siren:  0.9999999\n",
      "SIREN!!!\n",
      "1/1 [==============================] - 0s 45ms/step\n",
      "not_siren:  0.9974419 siren:  0.0025581613\n",
      "No siren. Carry on.\n",
      "1/1 [==============================] - 0s 38ms/step\n",
      "not_siren:  0.93116534 siren:  0.068834625\n",
      "No siren. Carry on.\n",
      "1/1 [==============================] - 0s 67ms/step\n",
      "not_siren:  0.98952955 siren:  0.010470451\n",
      "No siren. Carry on.\n"
     ]
    }
   ],
   "source": [
    "# Real time detection\n",
    "# 1) reads in 3-second audio chunk (defined by CHUNK)\n",
    "# 2) gets MFCCs\n",
    "# 3) runs MFCCs through keras model to predict probabilities \n",
    "# 4) Determines whether siren was present based on threshold\n",
    "\n",
    "stream = p.open(\n",
    "    format=FORMAT,\n",
    "    channels=CHANNELS,\n",
    "    rate=RATE,\n",
    "    input_device_index=1, # CHANGE\n",
    "    input=True,\n",
    "    output=True,\n",
    "    frames_per_buffer=CHUNK\n",
    " )\n",
    "\n",
    "\n",
    "import sounddevice as sd\n",
    "\n",
    "num_rows = 40\n",
    "num_columns = 130\n",
    "num_channels = 1\n",
    "\n",
    "prob_thresh = 0.98 # probability threshold for detecting the siren\n",
    "\n",
    "while True:\n",
    "    data = stream.read(CHUNK)\n",
    "    data_int = np.frombuffer(data, dtype=np.int16)\n",
    "    \n",
    "    \n",
    "    data_int = get_mfccs(data_int)\n",
    "\n",
    "    prediction_feature = data_int.reshape(1, num_rows, num_columns, num_channels)\n",
    "\n",
    "    predicted_proba_vector = model.predict(prediction_feature)\n",
    "    # Access probabilities directly\n",
    "    not_siren_prob = predicted_proba_vector[0][0]\n",
    "    siren_prob = predicted_proba_vector[0][1]\n",
    "\n",
    "    print(\"not_siren: \", not_siren_prob, \"siren: \", siren_prob)\n",
    "\n",
    "    if siren_prob > prob_thresh:\n",
    "        print('SIREN!!!')\n",
    "    else:\n",
    "         print('No siren. Carry on.')\n",
    "\n",
    "\n",
    "    "
   ]
  },
  {
   "cell_type": "code",
   "execution_count": null,
   "metadata": {},
   "outputs": [],
   "source": []
  }
 ],
 "metadata": {
  "kernelspec": {
   "display_name": "Python 3",
   "language": "python",
   "name": "python3"
  },
  "language_info": {
   "codemirror_mode": {
    "name": "ipython",
    "version": 3
   },
   "file_extension": ".py",
   "mimetype": "text/x-python",
   "name": "python",
   "nbconvert_exporter": "python",
   "pygments_lexer": "ipython3",
   "version": "3.11.0"
  }
 },
 "nbformat": 4,
 "nbformat_minor": 2
}
