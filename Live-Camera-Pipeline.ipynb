{
 "cells": [
  {
   "cell_type": "markdown",
   "metadata": {},
   "source": [
    "## Importin Libraries"
   ]
  },
  {
   "cell_type": "code",
   "execution_count": 12,
   "metadata": {},
   "outputs": [],
   "source": [
    "import os\n",
    "import cv2\n",
    "import json\n",
    "import time\n",
    "import numpy as np\n",
    "import mediapipe as mp\n",
    "import tensorflow as tf\n",
    "from collections import deque\n",
    "import matplotlib.pyplot as plt\n",
    "from concurrent.futures import ThreadPoolExecutor\n",
    "\n",
    "tf.get_logger().setLevel('ERROR')"
   ]
  },
  {
   "cell_type": "markdown",
   "metadata": {},
   "source": [
    "## MediaPipe Implementation"
   ]
  },
  {
   "cell_type": "code",
   "execution_count": 13,
   "metadata": {},
   "outputs": [],
   "source": [
    "filtered_hand = list(range(21))\n",
    "\n",
    "filtered_pose = [11, 12, 13, 14, 15, 16]\n",
    "\n",
    "filtered_face = [0, 4, 7, 8, 10, 13, 14, 17, 21, 33, 37, 39, 40, 46, 52, 53, 54, 55, 58,\n",
    "                 61, 63, 65, 66, 67, 70, 78, 80, 81, 82, 84, 87, 88, 91, 93, 95, 103, 105,\n",
    "                 107, 109, 127, 132, 133, 136, 144, 145, 146, 148, 149, 150, 152, 153, 154,\n",
    "                 155, 157, 158, 159, 160, 161, 162, 163, 172, 173, 176, 178, 181, 185, 191,\n",
    "                 234, 246, 249, 251, 263, 267, 269, 270, 276, 282, 283, 284, 285, 288, 291,\n",
    "                 293, 295, 296, 297, 300, 308, 310, 311, 312, 314, 317, 318, 321, 323, 324,\n",
    "                 332, 334, 336, 338, 356, 361, 362, 365, 373, 374, 375, 377, 378, 379, 380,\n",
    "                 381, 382, 384, 385, 386, 387, 388, 389, 390, 397, 398, 400, 402, 405, 409,\n",
    "                 415, 454, 466, 468, 473]\n",
    "\n",
    "HAND_NUM = len(filtered_hand)\n",
    "POSE_NUM = len(filtered_pose)\n",
    "FACE_NUM = len(filtered_face)"
   ]
  },
  {
   "cell_type": "code",
   "execution_count": 14,
   "metadata": {},
   "outputs": [],
   "source": [
    "hands = mp.solutions.hands.Hands()\n",
    "pose = mp.solutions.pose.Pose()\n",
    "face_mesh = mp.solutions.face_mesh.FaceMesh(refine_landmarks=True)\n",
    "\n",
    "def get_frame_landmarks(frame):\n",
    "    \n",
    "    all_landmarks = np.zeros((HAND_NUM * 2 + POSE_NUM + FACE_NUM, 3))\n",
    "    \n",
    "    def get_hands(frame):\n",
    "        results_hands = hands.process(frame)\n",
    "        if results_hands.multi_hand_landmarks:\n",
    "            for i, hand_landmarks in enumerate(results_hands.multi_hand_landmarks):\n",
    "                if results_hands.multi_handedness[i].classification[0].index == 0: \n",
    "                    all_landmarks[:HAND_NUM, :] = np.array(\n",
    "                        [(lm.x, lm.y, lm.z) for lm in hand_landmarks.landmark]) # right\n",
    "                else:\n",
    "                    all_landmarks[HAND_NUM:HAND_NUM * 2, :] = np.array(\n",
    "                        [(lm.x, lm.y, lm.z) for lm in hand_landmarks.landmark]) # left\n",
    "\n",
    "    def get_pose(frame):\n",
    "        results_pose = pose.process(frame)\n",
    "        if results_pose.pose_landmarks:\n",
    "            all_landmarks[HAND_NUM * 2:HAND_NUM * 2 + POSE_NUM, :] = np.array(\n",
    "                [(lm.x, lm.y, lm.z) for lm in results_pose.pose_landmarks.landmark])[filtered_pose]\n",
    "        \n",
    "    def get_face(frame):\n",
    "        results_face = face_mesh.process(frame)\n",
    "        if results_face.multi_face_landmarks:\n",
    "            all_landmarks[HAND_NUM * 2 + POSE_NUM:, :] = np.array(\n",
    "                [(lm.x, lm.y, lm.z) for lm in results_face.multi_face_landmarks[0].landmark])[filtered_face]\n",
    "        \n",
    "    with ThreadPoolExecutor(max_workers=3) as executor:\n",
    "        executor.submit(get_hands, frame)\n",
    "        executor.submit(get_pose, frame)\n",
    "        executor.submit(get_face, frame)\n",
    "\n",
    "    return all_landmarks"
   ]
  },
  {
   "cell_type": "markdown",
   "metadata": {},
   "source": [
    "## Load Trained Model"
   ]
  },
  {
   "cell_type": "code",
   "execution_count": 15,
   "metadata": {},
   "outputs": [],
   "source": [
    "model_path = \"D:\\\\Desktop\\\\AI\\\\2024-1-Sprint\\\\testing model\\\\1-29(1)\\\\1-29(1).h5\"\n",
    "gloss_mapping_path = \"D:\\\\Desktop\\\\AI\\\\2024-1-Sprint\\\\testing model\\\\1-29(1)\\\\269_gloss_mapping.json\"\n",
    "index_gloss_mapping_path = \"D:\\\\Desktop\\\\AI\\\\2024-1-Sprint\\\\testing model\\\\1-29(1)\\\\269_index_gloss_mapping.json\"\n",
    "index_label_mapping_path = \"D:\\\\Desktop\\\\AI\\\\2024-1-Sprint\\\\testing model\\\\1-29(1)\\\\269_index_label_mapping.json\"\n",
    "\n",
    "model = tf.keras.models.load_model(model_path)\n",
    "gloss_mapping = json.load(open(gloss_mapping_path, \"r\"))\n",
    "index_gloss_mapping = json.load(open(index_gloss_mapping_path, \"r\"))\n",
    "index_label_mapping = json.load(open(index_label_mapping_path, \"r\"))"
   ]
  },
  {
   "cell_type": "code",
   "execution_count": 16,
   "metadata": {},
   "outputs": [
    {
     "data": {
      "text/plain": [
       "((None, 100, 180, 3), (None, 269))"
      ]
     },
     "execution_count": 16,
     "metadata": {},
     "output_type": "execute_result"
    }
   ],
   "source": [
    "model.input_shape, model.output_shape"
   ]
  },
  {
   "cell_type": "markdown",
   "metadata": {},
   "source": [
    "## Sentence Generation"
   ]
  },
  {
   "cell_type": "code",
   "execution_count": 21,
   "metadata": {},
   "outputs": [],
   "source": [
    "timer = time.time()\n",
    "sentence = []\n",
    "\n",
    "def get_sentence(label):\n",
    "    global timer, sentence\n",
    "    \n",
    "    if label == 'None':\n",
    "        pass\n",
    "    elif  len(sentence) >= 1 and sentence[-1] == label:\n",
    "        timer = time.time()\n",
    "    elif len(sentence) >= 2 and sentence[-2] == label:\n",
    "        sentence.pop()\n",
    "        timer = time.time()\n",
    "    elif time.time() - timer < 3:\n",
    "        sentence.append(label)\n",
    "        timer = time.time()\n",
    "    else:\n",
    "        sentence = [label]\n",
    "        timer = time.time()\n",
    "        \n",
    "    return sentence"
   ]
  },
  {
   "cell_type": "markdown",
   "metadata": {},
   "source": [
    "## Test Live Feed"
   ]
  },
  {
   "cell_type": "code",
   "execution_count": 22,
   "metadata": {},
   "outputs": [
    {
     "name": "stdout",
     "output_type": "stream",
     "text": [
      "152: 1.0\n",
      "Label: None\n",
      "Sentence: []\n",
      "141: 0.9996691942214966\n",
      "Label: cheap\n",
      "Sentence: ['cheap']\n",
      "154: 0.9996480941772461\n",
      "Label: door\n",
      "Sentence: ['cheap', 'door']\n",
      "154: 0.9942076206207275\n",
      "Label: door\n",
      "Sentence: ['cheap', 'door']\n",
      "97: 0.5684857964515686\n",
      "Label: money\n",
      "Sentence: ['cheap', 'door', 'money']\n",
      "202: 0.9975554347038269\n",
      "Label: journey\n",
      "Sentence: ['cheap', 'door', 'money', 'journey']\n",
      "256: 0.6409409046173096\n",
      "Label: travel\n",
      "Sentence: ['cheap', 'door', 'money', 'journey', 'travel']\n",
      "161: 0.9994199275970459\n",
      "Label: forest\n",
      "Sentence: ['cheap', 'door', 'money', 'journey', 'travel', 'forest']\n",
      "161: 0.9994136095046997\n",
      "Label: forest\n",
      "Sentence: ['cheap', 'door', 'money', 'journey', 'travel', 'forest']\n",
      "8: 0.8629806041717529\n",
      "Label: firetruck\n",
      "Sentence: ['cheap', 'door', 'money', 'journey', 'travel', 'forest', 'firetruck']\n",
      "85: 0.7050928473472595\n",
      "Label: cross\n",
      "Sentence: ['cheap', 'door', 'money', 'journey', 'travel', 'forest', 'firetruck', 'cross']\n",
      "218: 0.9208775758743286\n",
      "Label: reach\n",
      "Sentence: ['cheap', 'door', 'money', 'journey', 'travel', 'forest', 'firetruck', 'cross', 'reach']\n",
      "96: 0.6025550365447998\n",
      "Label: find\n",
      "Sentence: ['cheap', 'door', 'money', 'journey', 'travel', 'forest', 'firetruck', 'cross', 'reach', 'find']\n",
      "152: 0.9976474642753601\n",
      "Label: None\n",
      "Sentence: ['cheap', 'door', 'money', 'journey', 'travel', 'forest', 'firetruck', 'cross', 'reach', 'find']\n",
      "152: 0.9999663829803467\n",
      "Label: None\n",
      "Sentence: ['cheap', 'door', 'money', 'journey', 'travel', 'forest', 'firetruck', 'cross', 'reach', 'find']\n",
      "152: 0.9999558925628662\n",
      "Label: None\n",
      "Sentence: ['cheap', 'door', 'money', 'journey', 'travel', 'forest', 'firetruck', 'cross', 'reach', 'find']\n",
      "152: 0.9999487400054932\n",
      "Label: None\n",
      "Sentence: ['cheap', 'door', 'money', 'journey', 'travel', 'forest', 'firetruck', 'cross', 'reach', 'find']\n",
      "141: 0.8561521768569946\n",
      "Label: cheap\n",
      "Sentence: ['cheap']\n",
      "59: 0.9999749660491943\n",
      "Label: follow\n",
      "Sentence: ['cheap', 'follow']\n",
      "152: 0.9997050166130066\n",
      "Label: None\n",
      "Sentence: ['cheap', 'follow']\n",
      "152: 0.9995519518852234\n",
      "Label: None\n",
      "Sentence: ['cheap', 'follow']\n",
      "152: 0.9995273351669312\n",
      "Label: None\n",
      "Sentence: ['cheap', 'follow']\n",
      "152: 0.9594463109970093\n",
      "Label: None\n",
      "Sentence: ['cheap', 'follow']\n",
      "251: 0.9999992847442627\n",
      "Label: shop\n",
      "Sentence: ['shop']\n",
      "150: 0.6420053839683533\n",
      "Label: clock\n",
      "Sentence: ['shop', 'clock']\n",
      "210: 1.0\n",
      "Label: ceiling\n",
      "Sentence: ['shop', 'clock', 'ceiling']\n",
      "210: 0.9999997615814209\n",
      "Label: ceiling\n",
      "Sentence: ['shop', 'clock', 'ceiling']\n",
      "210: 0.9973058700561523\n",
      "Label: ceiling\n",
      "Sentence: ['shop', 'clock', 'ceiling']\n",
      "210: 1.0\n",
      "Label: ceiling\n",
      "Sentence: ['shop', 'clock', 'ceiling']\n",
      "210: 1.0\n",
      "Label: ceiling\n",
      "Sentence: ['shop', 'clock', 'ceiling']\n"
     ]
    }
   ],
   "source": [
    "cap = cv2.VideoCapture(0)\n",
    "width = int(cap.get(cv2.CAP_PROP_FRAME_WIDTH))\n",
    "height = int(cap.get(cv2.CAP_PROP_FRAME_HEIGHT))\n",
    "\n",
    "sequence = deque(maxlen=model.input_shape[1])\n",
    "for _ in range(model.input_shape[1]):\n",
    "    sequence.append(np.zeros((model.input_shape[2], 3)))\n",
    "\n",
    "step_length = 40\n",
    "TIME_PER_STEP = step_length / 30.0\n",
    "step_time = time.time()\n",
    "frame_time = 0\n",
    "label = ''\n",
    "step = []\n",
    "\n",
    "while True:\n",
    "    ret, frame = cap.read()\n",
    "    if not ret: continue\n",
    "    \n",
    "    fps = str(int(1 / (time.time() - frame_time)))\n",
    "    frame_time = time.time()\n",
    "    \n",
    "    frame = cv2.flip(frame, 1)\n",
    "    frame_rgb = cv2.cvtColor(frame, cv2.COLOR_BGR2RGB)\n",
    "    frame_rgb.flags.writeable = False\n",
    "    frame_landmarks = get_frame_landmarks(frame_rgb)\n",
    "    \n",
    "    for point in frame_landmarks:\n",
    "        x = int(point[0] * width)\n",
    "        y = int(point[1] * height)\n",
    "        cv2.circle(frame, (x, y), 2, (0, 255, 0), -1)\n",
    "    cv2.putText(frame, fps, (30,60), cv2.FONT_HERSHEY_SIMPLEX, 2, (0, 0, 255), 2, cv2.LINE_AA)\n",
    "    cv2.putText(frame, label, (30, 100), cv2.FONT_HERSHEY_SIMPLEX, 1, (0, 255, 0), 2, cv2.LINE_AA)    \n",
    "    \n",
    "    step.append(frame_landmarks)\n",
    "\n",
    "    if time.time() - step_time >= TIME_PER_STEP:\n",
    "        step = np.array(step)\n",
    "        step = np.apply_along_axis(lambda arr: np.interp(np.linspace(0, 1, step_length),\n",
    "                                                         np.linspace(0, 1, arr.shape[0]), arr),\n",
    "                                   axis=0, arr=step)\n",
    "        \n",
    "        sequence.extend(step)\n",
    "        sequence_array = np.expand_dims(np.array(sequence), axis=0)        \n",
    "        prediction = model.predict(sequence_array, verbose=0)\n",
    "        prediction = prediction.reshape(-1)\n",
    "        print(f'{prediction.argmax()}: {prediction.max()}')\n",
    "        prediction = prediction.argmax()\n",
    "        \n",
    "        label = index_label_mapping[str(prediction)]\n",
    "        print(f'Label: {label}')\n",
    "        print(f'Sentence: {get_sentence(label)}')\n",
    "        \n",
    "        step_time = time.time()\n",
    "        step = []\n",
    "        \n",
    "    cv2.imshow(\"Test\", frame)\n",
    "    cv2.setWindowProperty(\"Test\", cv2.WND_PROP_TOPMOST, 1)\n",
    "    k = cv2.waitKey(1)\n",
    "    if k == ord('q'):\n",
    "        break\n",
    "\n",
    "cap.release()\n",
    "cv2.destroyAllWindows()"
   ]
  },
  {
   "cell_type": "code",
   "execution_count": 8,
   "metadata": {},
   "outputs": [],
   "source": [
    "cap.release()\n",
    "cv2.destroyAllWindows()"
   ]
  },
  {
   "cell_type": "markdown",
   "metadata": {},
   "source": [
    "---"
   ]
  }
 ],
 "metadata": {
  "kernelspec": {
   "display_name": "Python 3",
   "language": "python",
   "name": "python3"
  },
  "language_info": {
   "codemirror_mode": {
    "name": "ipython",
    "version": 3
   },
   "file_extension": ".py",
   "mimetype": "text/x-python",
   "name": "python",
   "nbconvert_exporter": "python",
   "pygments_lexer": "ipython3",
   "version": "3.11.5"
  }
 },
 "nbformat": 4,
 "nbformat_minor": 2
}
