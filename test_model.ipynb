{
 "cells": [
  {
   "cell_type": "code",
   "execution_count": 1,
   "metadata": {},
   "outputs": [
    {
     "name": "stdout",
     "output_type": "stream",
     "text": [
      "WARNING:tensorflow:From c:\\Python311\\Lib\\site-packages\\keras\\src\\losses.py:2976: The name tf.losses.sparse_softmax_cross_entropy is deprecated. Please use tf.compat.v1.losses.sparse_softmax_cross_entropy instead.\n",
      "\n"
     ]
    }
   ],
   "source": [
    "import librosa\n",
    "import librosa.display\n",
    "import numpy as np\n",
    "import tensorflow as tf\n",
    "import sounddevice as sd  # For audio recording"
   ]
  },
  {
   "cell_type": "code",
   "execution_count": 3,
   "metadata": {},
   "outputs": [],
   "source": [
    "model = tf.keras.models.load_model('C:\\\\Users\\\\dell\\\\Desktop\\\\AI\\\\Grad\\\\2nd\\\\siren\\\\CNN_Model.h5')"
   ]
  },
  {
   "cell_type": "code",
   "execution_count": 4,
   "metadata": {},
   "outputs": [],
   "source": [
    "def preprocess_audio(audio_data, sample_rate):\n",
    "  \"\"\"Preprocesses live audio data for model input.\"\"\"\n",
    "  audio_data = audio_data[:22050]  # Adjust based on MFCC window size\n",
    "  mfccs = librosa.feature.mfcc(y=audio_data, sr=sample_rate, n_mfcc=80)  \n",
    "  mfccs_scaled_features = np.mean(mfccs.T, axis=0) \n",
    "  mfccs_scaled_features = mfccs_scaled_features.reshape(1, -1, 1)  \n",
    "  return mfccs_scaled_features"
   ]
  },
  {
   "cell_type": "code",
   "execution_count": 5,
   "metadata": {},
   "outputs": [],
   "source": [
    "def predict_siren(audio_data, sample_rate):\n",
    "  \"\"\"Predicts siren type from preprocessed audio data.\"\"\"\n",
    "  preprocessed_audio = preprocess_audio(audio_data, sample_rate)\n",
    "  predictions = model.predict(preprocessed_audio)\n",
    "  predicted_class = np.argmax(predictions[0])  \n",
    "  siren_type = {0: \"Ambulance\", 1: \"Firetruck\", 2: \"Police Car\"}[predicted_class]\n",
    "  return siren_type"
   ]
  },
  {
   "cell_type": "code",
   "execution_count": 6,
   "metadata": {},
   "outputs": [],
   "source": [
    "def test_audio(filename):\n",
    "  \"\"\"Loads and preprocesses audio from a file for testing.\"\"\"\n",
    "  audio_data, sample_rate = librosa.load(filename)\n",
    "  preprocessed_audio = preprocess_audio(audio_data, sample_rate)\n",
    "  return preprocessed_audio"
   ]
  },
  {
   "cell_type": "code",
   "execution_count": 7,
   "metadata": {},
   "outputs": [
    {
     "name": "stdout",
     "output_type": "stream",
     "text": [
      "Testing with audio file...\n",
      "1/1 [==============================] - 0s 294ms/step\n",
      "Predicted siren type: Ambulance\n"
     ]
    }
   ],
   "source": [
    "def main():\n",
    "  print(\"Testing with audio file...\")\n",
    "  test_file = \"C:\\\\Users\\\\dell\\\\Desktop\\\\AI\\\\Grad\\\\2nd\\\\siren\\\\sound_1.wav\"  \n",
    "  preprocessed_data = test_audio(test_file)\n",
    "  predictions = model.predict(preprocessed_data)\n",
    "  predicted_class = np.argmax(predictions[0])\n",
    "  siren_type = {0: \"Ambulance\", 1: \"Firetruck\", 2: \"Police Car\"}[predicted_class]\n",
    "  print(f\"Predicted siren type: {siren_type}\")\n",
    "if __name__ == \"__main__\":\n",
    "  main()"
   ]
  },
  {
   "cell_type": "code",
   "execution_count": null,
   "metadata": {},
   "outputs": [],
   "source": []
  }
 ],
 "metadata": {
  "kernelspec": {
   "display_name": "Python 3",
   "language": "python",
   "name": "python3"
  },
  "language_info": {
   "codemirror_mode": {
    "name": "ipython",
    "version": 3
   },
   "file_extension": ".py",
   "mimetype": "text/x-python",
   "name": "python",
   "nbconvert_exporter": "python",
   "pygments_lexer": "ipython3",
   "version": "3.11.0"
  }
 },
 "nbformat": 4,
 "nbformat_minor": 2
}
