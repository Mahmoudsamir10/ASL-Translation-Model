{
 "cells": [
  {
   "cell_type": "code",
   "execution_count": 1,
   "metadata": {},
   "outputs": [
    {
     "name": "stdout",
     "output_type": "stream",
     "text": [
      "WARNING:tensorflow:From c:\\Python311\\Lib\\site-packages\\keras\\src\\losses.py:2976: The name tf.losses.sparse_softmax_cross_entropy is deprecated. Please use tf.compat.v1.losses.sparse_softmax_cross_entropy instead.\n",
      "\n",
      "WARNING:tensorflow:From c:\\Python311\\Lib\\site-packages\\keras\\src\\backend.py:1398: The name tf.executing_eagerly_outside_functions is deprecated. Please use tf.compat.v1.executing_eagerly_outside_functions instead.\n",
      "\n",
      "WARNING:tensorflow:From c:\\Python311\\Lib\\site-packages\\keras\\src\\backend.py:6642: The name tf.nn.max_pool is deprecated. Please use tf.nn.max_pool2d instead.\n",
      "\n",
      "Recording audio for prediction...\n",
      "Recording audio...\n",
      "Audio recorded.\n"
     ]
    },
    {
     "name": "stderr",
     "output_type": "stream",
     "text": [
      "c:\\Python311\\Lib\\site-packages\\librosa\\core\\spectrum.py:257: UserWarning: n_fft=2048 is too large for input signal of length=80\n",
      "  warnings.warn(\n"
     ]
    },
    {
     "name": "stdout",
     "output_type": "stream",
     "text": [
      "1/1 [==============================] - 0s 200ms/step\n",
      "Predicted siren type: Ambulance\n",
      "Recording audio...\n",
      "Audio recorded.\n",
      "1/1 [==============================] - 0s 61ms/step\n",
      "Predicted siren type: Ambulance\n",
      "Recording audio...\n"
     ]
    },
    {
     "name": "stderr",
     "output_type": "stream",
     "text": [
      "c:\\Python311\\Lib\\site-packages\\librosa\\core\\spectrum.py:257: UserWarning: n_fft=2048 is too large for input signal of length=80\n",
      "  warnings.warn(\n"
     ]
    },
    {
     "name": "stdout",
     "output_type": "stream",
     "text": [
      "Audio recorded.\n",
      "1/1 [==============================] - 0s 50ms/step\n",
      "Predicted siren type: Ambulance\n",
      "Recording audio...\n",
      "Audio recorded.\n",
      "1/1 [==============================] - 0s 40ms/step\n",
      "Predicted siren type: Ambulance\n",
      "Recording audio...\n",
      "Audio recorded.\n",
      "1/1 [==============================] - 0s 36ms/step\n",
      "Predicted siren type: Ambulance\n",
      "Recording audio...\n",
      "Audio recorded.\n",
      "1/1 [==============================] - 0s 39ms/step\n",
      "Predicted siren type: Ambulance\n",
      "Recording audio...\n",
      "Audio recorded.\n",
      "1/1 [==============================] - 0s 64ms/step\n",
      "Predicted siren type: Ambulance\n",
      "Recording audio...\n"
     ]
    }
   ],
   "source": [
    "import librosa\n",
    "import numpy as np\n",
    "import tensorflow as tf\n",
    "import sounddevice as sd  \n",
    "\n",
    "model = tf.keras.models.load_model('C:\\\\Users\\\\dell\\\\Desktop\\\\AI\\\\Grad\\\\2nd\\\\siren\\\\CNN_Model.h5')\n",
    "\n",
    "def preprocess_audio(audio_data, sample_rate):\n",
    "    \"\"\"Preprocesses live audio data for model input.\"\"\"\n",
    "    audio_data = audio_data[:22050]  # Adjust based on MFCC window size\n",
    "    mfccs = librosa.feature.mfcc(y=audio_data, sr=sample_rate, n_mfcc=80)\n",
    "    mfccs_scaled_features = np.mean(mfccs.T, axis=0)\n",
    "    mfccs_scaled_features = mfccs_scaled_features.reshape(1, -1, 1)\n",
    "    return mfccs_scaled_features\n",
    "\n",
    "def predict_siren(audio_data, sample_rate):\n",
    "    \"\"\"Predicts siren type from preprocessed audio data.\"\"\"\n",
    "    preprocessed_audio = preprocess_audio(audio_data, sample_rate)\n",
    "    predictions = model.predict(preprocessed_audio)\n",
    "    predicted_class = np.argmax(predictions[0])\n",
    "    siren_type = {0: \"Ambulance\", 1: \"Firetruck\", 2: \"Trafic\"}[predicted_class]\n",
    "    return siren_type\n",
    "\n",
    "def record_audio(duration=3, sample_rate=22050):\n",
    "    \"\"\"Records audio from the microphone for a given duration.\"\"\"\n",
    "    print(\"Recording audio...\")\n",
    "    audio_data = sd.rec(int(duration * sample_rate), samplerate=sample_rate, channels=1, dtype='float64')\n",
    "    sd.wait()\n",
    "    return audio_data.flatten(), sample_rate\n",
    "\n",
    "def main():\n",
    "    print(\"Recording audio for prediction...\")\n",
    "    while True:\n",
    "        audio_data, sample_rate = record_audio()\n",
    "        print(\"Audio recorded.\")\n",
    "        siren_type = predict_siren(audio_data, sample_rate)\n",
    "        print(f\"Predicted siren type: {siren_type}\")\n",
    "\n",
    "if __name__ == \"__main__\":\n",
    "    main()\n"
   ]
  },
  {
   "cell_type": "code",
   "execution_count": 5,
   "metadata": {},
   "outputs": [
    {
     "name": "stdout",
     "output_type": "stream",
     "text": [
      "Recording audio for prediction...\n",
      "Recording audio...\n",
      "Audio recorded.\n",
      "1/1 [==============================] - 0s 193ms/step\n",
      "Predicted siren type: Ambulance\n"
     ]
    }
   ],
   "source": [
    "import librosa\n",
    "import numpy as np\n",
    "import tensorflow as tf\n",
    "import sounddevice as sd  \n",
    "\n",
    "model = tf.keras.models.load_model('C:\\\\Users\\\\dell\\\\Desktop\\\\AI\\\\Grad\\\\2nd\\\\siren\\\\CNN_Model.h5')\n",
    "\n",
    "terminate = False  # Variable to indicate whether to terminate the program\n",
    "\n",
    "def preprocess_audio(audio_data, sample_rate):\n",
    "    \"\"\"Preprocesses live audio data for model input.\"\"\"\n",
    "    audio_data = audio_data[:22050]  # Adjust based on MFCC window size\n",
    "    mfccs = librosa.feature.mfcc(y=audio_data, sr=sample_rate, n_mfcc=80)\n",
    "    mfccs_scaled_features = np.mean(mfccs.T, axis=0)\n",
    "    mfccs_scaled_features = mfccs_scaled_features.reshape(1, -1, 1)\n",
    "    return mfccs_scaled_features\n",
    "\n",
    "def predict_siren(audio_data, sample_rate):\n",
    "    \"\"\"Predicts siren type from preprocessed audio data.\"\"\"\n",
    "    preprocessed_audio = preprocess_audio(audio_data, sample_rate)\n",
    "    predictions = model.predict(preprocessed_audio)\n",
    "    predicted_class = np.argmax(predictions[0])\n",
    "    siren_type = {0: \"Ambulance\", 1: \"Firetruck\", 2: \"Trafic\"}[predicted_class]\n",
    "    return siren_type\n",
    "\n",
    "def record_audio(duration=3, sample_rate=22050):\n",
    "    \"\"\"Records audio from the microphone for a given duration.\"\"\"\n",
    "    print(\"Recording audio...\")\n",
    "    audio_data = sd.rec(int(duration * sample_rate), samplerate=sample_rate, channels=2, dtype='float64')\n",
    "    sd.wait()\n",
    "    return audio_data.flatten(), sample_rate\n",
    "\n",
    "def main():\n",
    "    global terminate\n",
    "    print(\"Recording audio for prediction...\")\n",
    "    \n",
    "    while not terminate:\n",
    "        audio_data, sample_rate = record_audio()\n",
    "        print(\"Audio recorded.\")\n",
    "        siren_type = predict_siren(audio_data, sample_rate)\n",
    "        print(f\"Predicted siren type: {siren_type}\")\n",
    "\n",
    "        if input(\"Press Enter to record and predict again, or type 'q' to terminate: \").lower() == 'q':\n",
    "            terminate = True\n",
    "\n",
    "if __name__ == \"__main__\":\n",
    "    main()\n"
   ]
  },
  {
   "cell_type": "code",
   "execution_count": null,
   "metadata": {},
   "outputs": [],
   "source": []
  }
 ],
 "metadata": {
  "kernelspec": {
   "display_name": "Python 3",
   "language": "python",
   "name": "python3"
  },
  "language_info": {
   "codemirror_mode": {
    "name": "ipython",
    "version": 3
   },
   "file_extension": ".py",
   "mimetype": "text/x-python",
   "name": "python",
   "nbconvert_exporter": "python",
   "pygments_lexer": "ipython3",
   "version": "3.11.0"
  }
 },
 "nbformat": 4,
 "nbformat_minor": 2
}
